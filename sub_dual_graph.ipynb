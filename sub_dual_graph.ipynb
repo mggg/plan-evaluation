{
 "cells": [
  {
   "cell_type": "code",
   "execution_count": 4,
   "id": "c292c622-3801-4370-bfe3-89663f11f254",
   "metadata": {},
   "outputs": [],
   "source": [
    "import pandas as pd\n",
    "import geopandas as gpd\n",
    "from gerrychain import Graph \n",
    "import json"
   ]
  },
  {
   "cell_type": "code",
   "execution_count": 38,
   "id": "bca2afd9-bab6-49c7-84a4-0b9115086d2b",
   "metadata": {},
   "outputs": [],
   "source": [
    "def sub_dual_graph(fips_mapping, vtd_shp, output_dir):\n",
    "    \"\"\"\n",
    "    Creates small dual graphs on a portion of a state for running ensembles.\n",
    "    \n",
    "    :param fips_mapping: a mapping of the fips code for counties to their assignment name.\n",
    "    :param vtd_shp: the shapefile for the state on vtds\n",
    "    :param output_dir: name of directory for the dual graphs\n",
    "    \"\"\"\n",
    "    f = open(fips_mapping)\n",
    "    nc_fips = json.load(f)\n",
    "    state_vtd = gpd.read_file(vtd_shp)\n",
    "    \n",
    "    #specific to NC\n",
    "    state_vtd.COUNTYFP20 = state_vtd.COUNTYFP20.astype(int) + 37000\n",
    "    state_vtd.COUNTYFP20 = state_vtd.COUNTYFP20.astype('str')\n",
    "    \n",
    "    for k, v in nc_fips.items():\n",
    "        fips = k.replace(\"[\", \"\").replace(\"]\", \"\")\n",
    "        fips = fips.split(\",\")\n",
    "        state_vtd_sub = state_vtd[state_vtd.COUNTYFP20.isin(fips)]\n",
    "        try: \n",
    "            state_vtd_subgraph = Graph.from_geodataframe(state_vtd_sub)\n",
    "            json_filename = v + \".json\"\n",
    "            state_vtd_subgraph.to_json(output_dir + \"/\" + json_filename)\n",
    "        except: \n",
    "             state_vtd_sub[\"geometry\"] = state_vtd_sub.buffer(0)\n",
    "             state_vtd_subgraph = Graph.from_geodataframe(state_vtd_sub)\n",
    "             json_filename = v + \".json\"\n",
    "             state_vtd_subgraph.to_json(output_dir + \"/\" + json_filename)"
   ]
  },
  {
   "cell_type": "code",
   "execution_count": 39,
   "id": "974d0f2b-169f-4397-9437-3056b0505e78",
   "metadata": {},
   "outputs": [],
   "source": [
    "sub_dual_graph(\"NCSenateFipstoName.json\", \"NC_vtd20.shp\", \"NCSenateDualGraphs\")"
   ]
  }
 ],
 "metadata": {
  "kernelspec": {
   "display_name": "Python [conda env:coi] *",
   "language": "python",
   "name": "conda-env-coi-py"
  },
  "language_info": {
   "codemirror_mode": {
    "name": "ipython",
    "version": 3
   },
   "file_extension": ".py",
   "mimetype": "text/x-python",
   "name": "python",
   "nbconvert_exporter": "python",
   "pygments_lexer": "ipython3",
   "version": "3.9.7"
  }
 },
 "nbformat": 4,
 "nbformat_minor": 5
}
