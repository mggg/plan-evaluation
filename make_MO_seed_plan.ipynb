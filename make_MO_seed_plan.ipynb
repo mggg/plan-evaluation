{
 "cells": [
  {
   "cell_type": "code",
   "execution_count": 1,
   "id": "3b1a46fb-54c1-4ab8-a58a-101ecd432843",
   "metadata": {},
   "outputs": [],
   "source": [
    "import gerrychain\n",
    "from gerrychain.tree import recursive_tree_part\n",
    "import pandas as pd"
   ]
  },
  {
   "cell_type": "code",
   "execution_count": 2,
   "id": "18e1baa9-c0ee-486a-8aca-90c968b35fa9",
   "metadata": {},
   "outputs": [],
   "source": [
    "graph = gerrychain.Graph.from_json(\"dual_graphs/mo_vtds20_cleaned.json\")"
   ]
  },
  {
   "cell_type": "code",
   "execution_count": 3,
   "id": "4a83cba8-b7aa-4d4a-b02a-a2bf997bcd70",
   "metadata": {},
   "outputs": [],
   "source": [
    "pop_total = sum(v for _, v in graph.nodes(\"POP20\"))"
   ]
  },
  {
   "cell_type": "code",
   "execution_count": 4,
   "id": "edd21d81-2998-4a8b-ac84-ce0a35e5cc58",
   "metadata": {},
   "outputs": [
    {
     "data": {
      "text/plain": [
       "6154913"
      ]
     },
     "execution_count": 4,
     "metadata": {},
     "output_type": "execute_result"
    }
   ],
   "source": [
    "pop_total "
   ]
  },
  {
   "cell_type": "code",
   "execution_count": 5,
   "id": "46a7b7d9-3140-4aee-83bb-a70f12d84c07",
   "metadata": {},
   "outputs": [],
   "source": [
    "senate_seed = recursive_tree_part(graph=graph,\n",
    "                                  parts=range(1, 35),\n",
    "                                  pop_target = pop_total / 34,\n",
    "                                  epsilon=0.03,\n",
    "                                  pop_col=\"POP20\"\n",
    "                                 )"
   ]
  },
  {
   "cell_type": "code",
   "execution_count": 25,
   "id": "4369b3ad-e4a5-404b-a116-9f5e72099a15",
   "metadata": {},
   "outputs": [],
   "source": [
    "df = pd.DataFrame([{\"GEOID20\": graph.nodes()[k][\"GEOID20\"], \"assignment\": v} for k, v in senate_seed.items()])\n",
    "df[\"GEOID20\"] = df[\"GEOID20\"].astype(str)"
   ]
  },
  {
   "cell_type": "code",
   "execution_count": 29,
   "id": "6134f1a1-92cb-4ae6-8ad7-74fbf2973ee0",
   "metadata": {},
   "outputs": [],
   "source": [
    "df.to_csv(\"seed_plans/MO_vtd20_senate.csv\", index=False)"
   ]
  },
  {
   "cell_type": "code",
   "execution_count": 7,
   "id": "c280c547-ab71-4e05-bd70-22c797808342",
   "metadata": {},
   "outputs": [],
   "source": [
    "graph_ids = set([graph.nodes()[n][\"GEOID20\"] for n in graph.nodes()])"
   ]
  },
  {
   "cell_type": "code",
   "execution_count": 26,
   "id": "f659e0d2-d94c-4fb7-b2cf-f212ca8f8d43",
   "metadata": {},
   "outputs": [],
   "source": [
    "seed_ids = set(df[\"GEOID20\"])"
   ]
  },
  {
   "cell_type": "code",
   "execution_count": 9,
   "id": "805b43d9-87b0-4e40-a107-ae35d59c8593",
   "metadata": {},
   "outputs": [
    {
     "data": {
      "text/plain": [
       "str"
      ]
     },
     "execution_count": 9,
     "metadata": {},
     "output_type": "execute_result"
    }
   ],
   "source": [
    "for e in seed_ids:\n",
    "    break\n",
    "type(e)"
   ]
  },
  {
   "cell_type": "code",
   "execution_count": 10,
   "id": "6f504dc6-573c-4815-8860-eed96abb7fc5",
   "metadata": {},
   "outputs": [
    {
     "data": {
      "text/plain": [
       "str"
      ]
     },
     "execution_count": 10,
     "metadata": {},
     "output_type": "execute_result"
    }
   ],
   "source": [
    "for e in graph_ids:\n",
    "    break\n",
    "type(e)"
   ]
  },
  {
   "cell_type": "code",
   "execution_count": 28,
   "id": "46a46282-10bf-49ab-8dfa-1d8c59b1c63f",
   "metadata": {},
   "outputs": [
    {
     "data": {
      "text/plain": [
       "set()"
      ]
     },
     "execution_count": 28,
     "metadata": {},
     "output_type": "execute_result"
    }
   ],
   "source": [
    "seed_ids - graph_ids"
   ]
  }
 ],
 "metadata": {
  "kernelspec": {
   "display_name": "Python 3 (ipykernel)",
   "language": "python",
   "name": "python3"
  },
  "language_info": {
   "codemirror_mode": {
    "name": "ipython",
    "version": 3
   },
   "file_extension": ".py",
   "mimetype": "text/x-python",
   "name": "python",
   "nbconvert_exporter": "python",
   "pygments_lexer": "ipython3",
   "version": "3.8.10"
  }
 },
 "nbformat": 4,
 "nbformat_minor": 5
}
